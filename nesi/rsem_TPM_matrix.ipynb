{
 "cells": [
  {
   "cell_type": "code",
   "execution_count": null,
   "metadata": {},
   "outputs": [],
   "source": [
    "library('dplyr')\n",
    "library('readr')\n",
    "library('tidyr')"
   ]
  },
  {
   "cell_type": "markdown",
   "metadata": {},
   "source": [
    "Read in TPM normalised transcript counts"
   ]
  },
  {
   "cell_type": "code",
   "execution_count": null,
   "metadata": {},
   "outputs": [],
   "source": [
    "taxon_1 <- read.table('/nesi/nobackup/project-code/taxon/path/to/rsem/taxon_1.out/RSEM.isoforms.results', sep='\\t', header = TRUE)\n",
    "head(taxon_1)\n",
    "dim(taxon_1)"
   ]
  },
  {
   "cell_type": "markdown",
   "metadata": {},
   "source": [
    "Remove unnecessary columns"
   ]
  },
  {
   "cell_type": "code",
   "execution_count": null,
   "metadata": {},
   "outputs": [],
   "source": [
    "taxon_1_clean <- taxon_1 %>%\n",
    "    select('transcript_id', 'TPM') %>%\n",
    "    rename('taxon_1' = 'TPM')\n",
    "head(taxon_1_clean)\n",
    "dim(taxon_1_clean)"
   ]
  },
  {
   "cell_type": "markdown",
   "metadata": {},
   "source": [
    "Repeat for next 2 samples"
   ]
  },
  {
   "cell_type": "code",
   "execution_count": null,
   "metadata": {},
   "outputs": [],
   "source": [
    "taxon_2 <- read.table('/nesi/nobackup/project-code/taxon/path/to/rsem/taxon_2.out/RSEM.isoforms.results', sep='\\t', header = TRUE)\n",
    "head(taxon_2)\n",
    "dim(taxon_2)"
   ]
  },
  {
   "cell_type": "code",
   "execution_count": null,
   "metadata": {},
   "outputs": [],
   "source": [
    "taxon_2_clean <- taxon_2 %>%\n",
    "    select('transcript_id', 'TPM') %>%\n",
    "    rename('taxon_2' = 'TPM')\n",
    "head(taxon_2_clean)\n",
    "dim(taxon_2_clean)"
   ]
  },
  {
   "cell_type": "code",
   "execution_count": null,
   "metadata": {},
   "outputs": [],
   "source": [
    "taxon_3 <- read.table('/nesi/nobackup/project-code/taxon/path/to/rsem/taxon_3.out/RSEM.isoforms.results', sep='\\t', header = TRUE)\n",
    "head(taxon_3)\n",
    "dim(taxon_3)"
   ]
  },
  {
   "cell_type": "code",
   "execution_count": null,
   "metadata": {},
   "outputs": [],
   "source": [
    "taxon_3_clean <- taxon_3 %>%\n",
    "    select('transcript_id', 'TPM') %>%\n",
    "    rename('taxon_3' = 'TPM')\n",
    "head(taxon_3_clean)\n",
    "dim(taxon_3_clean)"
   ]
  },
  {
   "cell_type": "markdown",
   "metadata": {},
   "source": [
    "Use left join to create dataframe with TPM for all 3 samples"
   ]
  },
  {
   "cell_type": "code",
   "execution_count": null,
   "metadata": {},
   "outputs": [],
   "source": [
    "taxon_join1 <- left_join(taxon_1_clean, taxon_2_clean, by = 'transcript_id')\n",
    "head(taxon_join1)\n",
    "dim(taxon_join1)"
   ]
  },
  {
   "cell_type": "code",
   "execution_count": null,
   "metadata": {},
   "outputs": [],
   "source": [
    "taxon_join2 <- left_join(taxon_join1, taxon_3_clean, by = 'transcript_id')\n",
    "head(taxon_join2)\n",
    "dim(taxon_join2)"
   ]
  },
  {
   "cell_type": "markdown",
   "metadata": {},
   "source": [
    "Sum the TPM values per contig for all 3 samples"
   ]
  },
  {
   "cell_type": "code",
   "execution_count": null,
   "metadata": {},
   "outputs": [],
   "source": [
    "taxon_summed <- taxon_join2 %>%\n",
    "    rowwise(transcript_id) %>%\n",
    "    mutate(all_tpm = sum(c(taxon_1, taxon_2, taxon_3))) %>%\n",
    "    select(transcript_id, all_tpm)\n",
    "head(taxon_summed)\n",
    "dim(taxon_summed)"
   ]
  },
  {
   "cell_type": "markdown",
   "metadata": {},
   "source": [
    "Export the expression matrix"
   ]
  },
  {
   "cell_type": "code",
   "execution_count": null,
   "metadata": {},
   "outputs": [],
   "source": [
    "write.table(taxon_summed, '/nesi/nobackup/project-code/taxon/path/to/rsem/taxon_rsem_contigs_TPM.txt', row.names=FALSE, col.names=FALSE, quote=FALSE)"
   ]
  }
 ],
 "metadata": {
  "kernelspec": {
   "display_name": "Python 3",
   "language": "python",
   "name": "python3"
  },
  "language_info": {
   "codemirror_mode": {
    "name": "ipython",
    "version": 3
   },
   "file_extension": ".py",
   "mimetype": "text/x-python",
   "name": "python",
   "nbconvert_exporter": "python",
   "pygments_lexer": "ipython3",
   "version": "3.7.7"
  }
 },
 "nbformat": 4,
 "nbformat_minor": 4
}
