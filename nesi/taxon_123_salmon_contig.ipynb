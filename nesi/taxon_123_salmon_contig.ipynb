{
 "cells": [
  {
   "cell_type": "code",
   "execution_count": null,
   "metadata": {},
   "outputs": [],
   "source": [
    "library('dplyr')\n",
    "library('readr')\n",
    "library('tidyr')"
   ]
  },
  {
   "cell_type": "markdown",
   "metadata": {},
   "source": [
    "Get the Trinity gene to transcript map"
   ]
  },
  {
   "cell_type": "code",
   "execution_count": null,
   "metadata": {},
   "outputs": [],
   "source": [
    "taxon_1_g2t <- read.table('/nesi/nobackup/project-code/taxon/path/to/taxon_1_trinity/trinity_assembly/Trinity.fasta.gene_trans_map', sep='\\t', header = FALSE)\n",
    "head(taxon_1_g2t)\n",
    "dim(taxon_1_g2t)"
   ]
  },
  {
   "cell_type": "markdown",
   "metadata": {},
   "source": [
    "Read in the Salmon output for this assembly"
   ]
  },
  {
   "cell_type": "code",
   "execution_count": null,
   "metadata": {},
   "outputs": [],
   "source": [
    "taxon_1_qua <- read.table('/nesi/nobackup/project-code/taxon/path/to/taxon_1_trinity/salmon/taxon_1.out/quant.sf', sep='\\t', header = TRUE)\n",
    "head(taxon_1_qua)\n",
    "dim(taxon_1_qua)"
   ]
  },
  {
   "cell_type": "markdown",
   "metadata": {},
   "source": [
    "Leave only transcript ID and TPM"
   ]
  },
  {
   "cell_type": "code",
   "execution_count": null,
   "metadata": {},
   "outputs": [],
   "source": [
    "taxon_1_clean <- taxon_1_qua %>%\n",
    "    select('Name', 'TPM')\n",
    "head(taxon_1_clean)\n",
    "dim(taxon_1_clean)"
   ]
  },
  {
   "cell_type": "markdown",
   "metadata": {},
   "source": [
    "Left join the cleaned expression matrix and g2t map"
   ]
  },
  {
   "cell_type": "code",
   "execution_count": null,
   "metadata": {},
   "outputs": [],
   "source": [
    "taxon_1_mer <- left_join(taxon_1_clean, taxon_1_g2t, by = c(\"Name\" = \"V2\"))\n",
    "head(taxon_1_mer)\n",
    "dim(taxon_1_mer)"
   ]
  },
  {
   "cell_type": "markdown",
   "metadata": {},
   "source": [
    "Keep only the isoforms with the highest TPM values"
   ]
  },
  {
   "cell_type": "code",
   "execution_count": null,
   "metadata": {},
   "outputs": [],
   "source": [
    "taxon_1_sorted <- taxon_1_mer %>%\n",
    "    group_by(V1) %>%\n",
    "    slice_max(TPM, with_ties = FALSE)\n",
    "head(taxon_1_sorted)\n",
    "dim(taxon_1_sorted)"
   ]
  },
  {
   "cell_type": "markdown",
   "metadata": {},
   "source": [
    "Leave only transcript and gene IDs"
   ]
  },
  {
   "cell_type": "code",
   "execution_count": null,
   "metadata": {},
   "outputs": [],
   "source": [
    "taxon_1_map <- taxon_1_sorted %>%\n",
    "    ungroup() %>%\n",
    "    select(Name, V1)\n",
    "head(taxon_1_map)\n",
    "dim(taxon_1_map)"
   ]
  },
  {
   "cell_type": "markdown",
   "metadata": {},
   "source": [
    "Output the g2t map for best supported contigs"
   ]
  },
  {
   "cell_type": "code",
   "execution_count": null,
   "metadata": {},
   "outputs": [],
   "source": [
    "write.table(taxon_1_map, '/nesi/nobackup/project-code/taxon/path/to/taxon_1_trinity/trinity_assembly/taxon_1_bestsupported_contigs_map.txt', row.names=FALSE, col.names=FALSE, quote=FALSE, sep='\\t')"
   ]
  },
  {
   "cell_type": "markdown",
   "metadata": {},
   "source": [
    "Leave only the best supported contigs"
   ]
  },
  {
   "cell_type": "code",
   "execution_count": null,
   "metadata": {},
   "outputs": [],
   "source": [
    "taxon_1_con_list <- taxon_1_map %>%\n",
    "  select(Name)\n",
    "head(taxon_1_con_list)\n",
    "dim(taxon_1_con_list)"
   ]
  },
  {
   "cell_type": "markdown",
   "metadata": {},
   "source": [
    "Output a list of the best supported contigs"
   ]
  },
  {
   "cell_type": "code",
   "execution_count": null,
   "metadata": {},
   "outputs": [],
   "source": [
    "write.table(taxon_1_con_list, '/nesi/nobackup/project-code/taxon/path/to/taxon_1_trinity/trinity_assembly/taxon_1_bestsupported_contigs_list.txt', row.names=FALSE, col.names=FALSE, quote=FALSE)"
   ]
  },
  {
   "cell_type": "markdown",
   "metadata": {},
   "source": [
    "Repeat for the nest two samples for this taxon"
   ]
  },
  {
   "cell_type": "code",
   "execution_count": null,
   "metadata": {},
   "outputs": [],
   "source": [
    "taxon_2_g2t <- read.table('/nesi/nobackup/project-code/taxon/path/to/taxon_2_trinity/trinity_assembly/Trinity.fasta.gene_trans_map', sep='\\t', header = FALSE)\n",
    "head(taxon_2_g2t)\n",
    "dim(taxon_2_g2t)"
   ]
  },
  {
   "cell_type": "code",
   "execution_count": null,
   "metadata": {},
   "outputs": [],
   "source": [
    "taxon_2_qua <- read.table('/nesi/nobackup/project-code/taxon/path/to/taxon_2_trinity/salmon/taxon_2.out/quant.sf', sep='\\t', header = TRUE)\n",
    "head(taxon_2_qua)\n",
    "dim(taxon_2_qua)"
   ]
  },
  {
   "cell_type": "code",
   "execution_count": null,
   "metadata": {},
   "outputs": [],
   "source": [
    "taxon_2_clean <- taxon_2_qua %>%\n",
    "    select('Name', 'TPM')\n",
    "head(taxon_2_clean)\n",
    "dim(taxon_2_clean)"
   ]
  },
  {
   "cell_type": "code",
   "execution_count": null,
   "metadata": {},
   "outputs": [],
   "source": [
    "taxon_2_mer <- left_join(taxon_2_clean, taxon_2_g2t, by = c(\"Name\" = \"V2\"))\n",
    "head(taxon_2_mer)\n",
    "dim(taxon_2_mer)"
   ]
  },
  {
   "cell_type": "code",
   "execution_count": null,
   "metadata": {},
   "outputs": [],
   "source": [
    "taxon_2_sorted <- taxon_2_mer %>%\n",
    "    group_by(V1) %>%\n",
    "    slice_max(TPM, with_ties = FALSE)\n",
    "head(taxon_2_sorted)\n",
    "dim(taxon_2_sorted)"
   ]
  },
  {
   "cell_type": "code",
   "execution_count": null,
   "metadata": {},
   "outputs": [],
   "source": [
    "taxon_2_map <- taxon_2_sorted %>%\n",
    "    ungroup() %>%\n",
    "    select(Name, V1)\n",
    "head(taxon_2_map)\n",
    "dim(taxon_2_map)"
   ]
  },
  {
   "cell_type": "code",
   "execution_count": null,
   "metadata": {},
   "outputs": [],
   "source": [
    "write.table(taxon_2_map, '/nesi/nobackup/project-code/taxon/path/to/taxon_2_trinity/trinity_assembly/taxon_2_bestsupported_contigs_map.txt', row.names=FALSE, col.names=FALSE, quote=FALSE, sep='\\t')"
   ]
  },
  {
   "cell_type": "code",
   "execution_count": null,
   "metadata": {},
   "outputs": [],
   "source": [
    "taxon_2_con_list <- taxon_2_map %>%\n",
    "  select(Name)\n",
    "head(taxon_2_con_list)\n",
    "dim(taxon_2_con_list)"
   ]
  },
  {
   "cell_type": "code",
   "execution_count": null,
   "metadata": {},
   "outputs": [],
   "source": [
    "write.table(taxon_2_con_list, '/nesi/nobackup/project-code/taxon/path/to/taxon_2_trinity/trinity_assembly/taxon_2_bestsupported_contigs_list.txt', row.names=FALSE, col.names=FALSE, quote=FALSE)"
   ]
  },
  {
   "cell_type": "code",
   "execution_count": null,
   "metadata": {},
   "outputs": [],
   "source": [
    "taxon_3_g2t <- read.table('/nesi/nobackup/project-code/taxon/path/to/taxon_3_trinity/trinity_assembly/Trinity.fasta.gene_trans_map', sep='\\t', header = FALSE)\n",
    "head(taxon_3_g2t)\n",
    "dim(taxon_3_g2t)"
   ]
  },
  {
   "cell_type": "code",
   "execution_count": null,
   "metadata": {},
   "outputs": [],
   "source": [
    "taxon_3_qua <- read.table('/nesi/nobackup/project-code/taxon/path/to/taxon_3_trinity/salmon/taxon_3.out/quant.sf', sep='\\t', header = TRUE)\n",
    "head(taxon_3_qua)\n",
    "dim(taxon_3_qua)"
   ]
  },
  {
   "cell_type": "code",
   "execution_count": null,
   "metadata": {},
   "outputs": [],
   "source": [
    "taxon_3_clean <- taxon_3_qua %>%\n",
    "    select('Name', 'TPM')\n",
    "head(taxon_3_clean)\n",
    "dim(taxon_3_clean)"
   ]
  },
  {
   "cell_type": "code",
   "execution_count": null,
   "metadata": {},
   "outputs": [],
   "source": [
    "taxon_3_mer <- left_join(taxon_3_clean, taxon_3_g2t, by = c(\"Name\" = \"V2\"))\n",
    "head(taxon_3_mer)\n",
    "dim(taxon_3_mer)"
   ]
  },
  {
   "cell_type": "code",
   "execution_count": null,
   "metadata": {},
   "outputs": [],
   "source": [
    "taxon_3_sorted <- taxon_3_mer %>%\n",
    "    group_by(V1) %>%\n",
    "    slice_max(TPM, with_ties = FALSE)\n",
    "head(taxon_3_sorted)\n",
    "dim(taxon_3_sorted)"
   ]
  },
  {
   "cell_type": "code",
   "execution_count": null,
   "metadata": {},
   "outputs": [],
   "source": [
    "taxon_3_map <- taxon_3_sorted %>%\n",
    "    ungroup() %>%\n",
    "    select(Name, V1)\n",
    "head(taxon_3_map)\n",
    "dim(taxon_3_map)"
   ]
  },
  {
   "cell_type": "code",
   "execution_count": null,
   "metadata": {},
   "outputs": [],
   "source": [
    "write.table(taxon_3_map, '/nesi/nobackup/project-code/taxon/path/to/taxon_3_trinity/trinity_assembly/taxon_3_bestsupported_contigs_map.txt', row.names=FALSE, col.names=FALSE, quote=FALSE, sep='\\t')"
   ]
  },
  {
   "cell_type": "code",
   "execution_count": null,
   "metadata": {},
   "outputs": [],
   "source": [
    "taxon_3_con_list <- taxon_3_map %>%\n",
    "  select(Name)\n",
    "head(taxon_3_con_list)\n",
    "dim(taxon_3_con_list)"
   ]
  },
  {
   "cell_type": "code",
   "execution_count": null,
   "metadata": {},
   "outputs": [],
   "source": [
    "write.table(taxon_3_con_list, '/nesi/nobackup/project-code/taxon/path/to/taxon_3_trinity/trinity_assembly/taxon_3_bestsupported_contigs_list.txt', row.names=FALSE, col.names=FALSE, quote=FALSE)"
   ]
  }
 ],
 "metadata": {
  "kernelspec": {
   "display_name": "R 4.0.1 (gimkl-2020a)",
   "language": "R",
   "name": "ir401-gimkl-2020a"
  },
  "language_info": {
   "codemirror_mode": "r",
   "file_extension": ".r",
   "mimetype": "text/x-r-source",
   "name": "R",
   "pygments_lexer": "r",
   "version": "4.0.1"
  }
 },
 "nbformat": 4,
 "nbformat_minor": 4
}
