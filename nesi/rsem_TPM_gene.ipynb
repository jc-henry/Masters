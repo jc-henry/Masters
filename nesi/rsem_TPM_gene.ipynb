{
 "cells": [
  {
   "cell_type": "code",
   "execution_count": null,
   "metadata": {},
   "outputs": [],
   "source": [
    "library('dplyr')\n",
    "library('readr')"
   ]
  },
  {
   "cell_type": "markdown",
   "metadata": {},
   "source": [
    "Read in the RSEM gene output for the first sample"
   ]
  },
  {
   "cell_type": "code",
   "execution_count": null,
   "metadata": {},
   "outputs": [],
   "source": [
    "taxon_1_qua <- read.table('/nesi/nobackup/project-code/path/to/rsem/taxon_1.out/RSEM.genes.results', sep='\\t', header = TRUE)\n",
    "head(taxon_1_qua)\n",
    "dim(taxon_1_qua)"
   ]
  },
  {
   "cell_type": "markdown",
   "metadata": {},
   "source": [
    "Remove unnecessary columns"
   ]
  },
  {
   "cell_type": "code",
   "execution_count": null,
   "metadata": {},
   "outputs": [],
   "source": [
    "taxon_1_df <- taxon_1_qua %>% \n",
    "    rename('Gene'='gene_id') %>% \n",
    "    select('Gene', 'TPM') %>%\n",
    "    arrange('Gene')\n",
    "head(taxon_1_df)\n",
    "dim(taxon_1_df)"
   ]
  },
  {
   "cell_type": "markdown",
   "metadata": {},
   "source": [
    "Export the gene TPM values"
   ]
  },
  {
   "cell_type": "code",
   "execution_count": null,
   "metadata": {},
   "outputs": [],
   "source": [
    "write_tsv(taxon_1_df, '/nesi/nobackup/project-code/path/to/rsem/taxon_1.out/taxon_1_geneTPM.tsv')"
   ]
  },
  {
   "cell_type": "code",
   "execution_count": null,
   "metadata": {},
   "outputs": [],
   "source": [
    "taxon_2_qua <- read.table('/nesi/nobackup/project-code/path/to/rsem/taxon_2.out/RSEM.genes.results', sep='\\t', header = TRUE)\n",
    "head(taxon_2_qua)\n",
    "dim(taxon_2_qua)"
   ]
  },
  {
   "cell_type": "code",
   "execution_count": null,
   "metadata": {},
   "outputs": [],
   "source": [
    "taxon_2_df <- taxon_2_qua %>% \n",
    "    rename('Gene'='gene_id') %>% \n",
    "    select('Gene', 'TPM') %>%\n",
    "    arrange('Gene')\n",
    "head(taxon_2_df)\n",
    "dim(taxon_2_df)"
   ]
  },
  {
   "cell_type": "code",
   "execution_count": null,
   "metadata": {},
   "outputs": [],
   "source": [
    "write_tsv(taxon_2_df, '/nesi/nobackup/project-code/path/to/rsem/taxon_2.out/taxon_2_geneTPM.tsv')"
   ]
  },
  {
   "cell_type": "code",
   "execution_count": null,
   "metadata": {},
   "outputs": [],
   "source": [
    "taxon_3_qua <- read.table('/nesi/nobackup/project-code/path/to/rsem/taxon_3.out/RSEM.genes.results', sep='\\t', header = TRUE)\n",
    "head(taxon_3_qua)\n",
    "dim(taxon_3_qua)"
   ]
  },
  {
   "cell_type": "code",
   "execution_count": null,
   "metadata": {},
   "outputs": [],
   "source": [
    "taxon_3_df <- taxon_3_qua %>% \n",
    "    rename('Gene'='gene_id') %>% \n",
    "    select('Gene', 'TPM') %>%\n",
    "    arrange('Gene')\n",
    "head(taxon_3_df)\n",
    "dim(taxon_3_df)"
   ]
  },
  {
   "cell_type": "code",
   "execution_count": null,
   "metadata": {},
   "outputs": [],
   "source": [
    "write_tsv(taxon_3_df, '/nesi/nobackup/project-code/path/to/rsem/taxon_3.out/taxon_3_geneTPM.tsv')"
   ]
  },
  {
   "cell_type": "code",
   "execution_count": null,
   "metadata": {},
   "outputs": [],
   "source": [
    "print(\"'Finished'\")"
   ]
  },
  {
   "cell_type": "code",
   "execution_count": null,
   "metadata": {},
   "outputs": [],
   "source": []
  }
 ],
 "metadata": {
  "kernelspec": {
   "display_name": "R 4.0.1 (gimkl-2020a)",
   "language": "R",
   "name": "ir401-gimkl-2020a"
  },
  "language_info": {
   "codemirror_mode": "r",
   "file_extension": ".r",
   "mimetype": "text/x-r-source",
   "name": "R",
   "pygments_lexer": "r",
   "version": "4.0.1"
  }
 },
 "nbformat": 4,
 "nbformat_minor": 4
}
